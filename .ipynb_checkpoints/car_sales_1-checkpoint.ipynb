{
 "cells": [
  {
   "cell_type": "code",
   "execution_count": 3,
   "id": "aa4db15d",
   "metadata": {},
   "outputs": [],
   "source": [
    "import pandas as pd"
   ]
  },
  {
   "cell_type": "code",
   "execution_count": 4,
   "id": "88258c88",
   "metadata": {},
   "outputs": [],
   "source": [
    "export_car_sales = pd.read_csv(\"car-sales.csv\")"
   ]
  },
  {
   "cell_type": "code",
   "execution_count": 5,
   "id": "b7be75c6",
   "metadata": {},
   "outputs": [
    {
     "data": {
      "text/html": [
       "<div>\n",
       "<style scoped>\n",
       "    .dataframe tbody tr th:only-of-type {\n",
       "        vertical-align: middle;\n",
       "    }\n",
       "\n",
       "    .dataframe tbody tr th {\n",
       "        vertical-align: top;\n",
       "    }\n",
       "\n",
       "    .dataframe thead th {\n",
       "        text-align: right;\n",
       "    }\n",
       "</style>\n",
       "<table border=\"1\" class=\"dataframe\">\n",
       "  <thead>\n",
       "    <tr style=\"text-align: right;\">\n",
       "      <th></th>\n",
       "      <th>Make</th>\n",
       "      <th>Colour</th>\n",
       "      <th>Odometer (KM)</th>\n",
       "      <th>Doors</th>\n",
       "      <th>Price</th>\n",
       "    </tr>\n",
       "  </thead>\n",
       "  <tbody>\n",
       "    <tr>\n",
       "      <th>0</th>\n",
       "      <td>Toyota</td>\n",
       "      <td>White</td>\n",
       "      <td>150043</td>\n",
       "      <td>4</td>\n",
       "      <td>$4,000.00</td>\n",
       "    </tr>\n",
       "    <tr>\n",
       "      <th>1</th>\n",
       "      <td>Honda</td>\n",
       "      <td>Red</td>\n",
       "      <td>87899</td>\n",
       "      <td>4</td>\n",
       "      <td>$5,000.00</td>\n",
       "    </tr>\n",
       "    <tr>\n",
       "      <th>2</th>\n",
       "      <td>Toyota</td>\n",
       "      <td>Blue</td>\n",
       "      <td>32549</td>\n",
       "      <td>3</td>\n",
       "      <td>$7,000.00</td>\n",
       "    </tr>\n",
       "    <tr>\n",
       "      <th>3</th>\n",
       "      <td>BMW</td>\n",
       "      <td>Black</td>\n",
       "      <td>11179</td>\n",
       "      <td>5</td>\n",
       "      <td>$22,000.00</td>\n",
       "    </tr>\n",
       "    <tr>\n",
       "      <th>4</th>\n",
       "      <td>Nissan</td>\n",
       "      <td>White</td>\n",
       "      <td>213095</td>\n",
       "      <td>4</td>\n",
       "      <td>$3,500.00</td>\n",
       "    </tr>\n",
       "    <tr>\n",
       "      <th>5</th>\n",
       "      <td>Toyota</td>\n",
       "      <td>Green</td>\n",
       "      <td>99213</td>\n",
       "      <td>4</td>\n",
       "      <td>$4,500.00</td>\n",
       "    </tr>\n",
       "    <tr>\n",
       "      <th>6</th>\n",
       "      <td>Honda</td>\n",
       "      <td>Blue</td>\n",
       "      <td>45698</td>\n",
       "      <td>4</td>\n",
       "      <td>$7,500.00</td>\n",
       "    </tr>\n",
       "    <tr>\n",
       "      <th>7</th>\n",
       "      <td>Honda</td>\n",
       "      <td>Blue</td>\n",
       "      <td>54738</td>\n",
       "      <td>4</td>\n",
       "      <td>$7,000.00</td>\n",
       "    </tr>\n",
       "    <tr>\n",
       "      <th>8</th>\n",
       "      <td>Toyota</td>\n",
       "      <td>White</td>\n",
       "      <td>60000</td>\n",
       "      <td>4</td>\n",
       "      <td>$6,250.00</td>\n",
       "    </tr>\n",
       "    <tr>\n",
       "      <th>9</th>\n",
       "      <td>Nissan</td>\n",
       "      <td>White</td>\n",
       "      <td>31600</td>\n",
       "      <td>4</td>\n",
       "      <td>$9,700.00</td>\n",
       "    </tr>\n",
       "  </tbody>\n",
       "</table>\n",
       "</div>"
      ],
      "text/plain": [
       "     Make Colour  Odometer (KM)  Doors       Price\n",
       "0  Toyota  White         150043      4   $4,000.00\n",
       "1   Honda    Red          87899      4   $5,000.00\n",
       "2  Toyota   Blue          32549      3   $7,000.00\n",
       "3     BMW  Black          11179      5  $22,000.00\n",
       "4  Nissan  White         213095      4   $3,500.00\n",
       "5  Toyota  Green          99213      4   $4,500.00\n",
       "6   Honda   Blue          45698      4   $7,500.00\n",
       "7   Honda   Blue          54738      4   $7,000.00\n",
       "8  Toyota  White          60000      4   $6,250.00\n",
       "9  Nissan  White          31600      4   $9,700.00"
      ]
     },
     "execution_count": 5,
     "metadata": {},
     "output_type": "execute_result"
    }
   ],
   "source": [
    "export_car_sales"
   ]
  },
  {
   "cell_type": "markdown",
   "id": "8de00065",
   "metadata": {},
   "source": [
    "#### To export\"car-sales.csv\""
   ]
  },
  {
   "cell_type": "code",
   "execution_count": 6,
   "id": "31ddb071",
   "metadata": {},
   "outputs": [],
   "source": [
    "export_car_sales.to_csv(\"exported-car-sales.csv\",index=False)"
   ]
  },
  {
   "cell_type": "code",
   "execution_count": 7,
   "id": "49250671",
   "metadata": {},
   "outputs": [],
   "source": [
    "exported_cars = pd.read_csv(\"exported-car-sales.csv\")"
   ]
  },
  {
   "cell_type": "code",
   "execution_count": 8,
   "id": "5733b469",
   "metadata": {},
   "outputs": [
    {
     "data": {
      "text/html": [
       "<div>\n",
       "<style scoped>\n",
       "    .dataframe tbody tr th:only-of-type {\n",
       "        vertical-align: middle;\n",
       "    }\n",
       "\n",
       "    .dataframe tbody tr th {\n",
       "        vertical-align: top;\n",
       "    }\n",
       "\n",
       "    .dataframe thead th {\n",
       "        text-align: right;\n",
       "    }\n",
       "</style>\n",
       "<table border=\"1\" class=\"dataframe\">\n",
       "  <thead>\n",
       "    <tr style=\"text-align: right;\">\n",
       "      <th></th>\n",
       "      <th>Make</th>\n",
       "      <th>Colour</th>\n",
       "      <th>Odometer (KM)</th>\n",
       "      <th>Doors</th>\n",
       "      <th>Price</th>\n",
       "    </tr>\n",
       "  </thead>\n",
       "  <tbody>\n",
       "    <tr>\n",
       "      <th>0</th>\n",
       "      <td>Toyota</td>\n",
       "      <td>White</td>\n",
       "      <td>150043</td>\n",
       "      <td>4</td>\n",
       "      <td>$4,000.00</td>\n",
       "    </tr>\n",
       "    <tr>\n",
       "      <th>1</th>\n",
       "      <td>Honda</td>\n",
       "      <td>Red</td>\n",
       "      <td>87899</td>\n",
       "      <td>4</td>\n",
       "      <td>$5,000.00</td>\n",
       "    </tr>\n",
       "    <tr>\n",
       "      <th>2</th>\n",
       "      <td>Toyota</td>\n",
       "      <td>Blue</td>\n",
       "      <td>32549</td>\n",
       "      <td>3</td>\n",
       "      <td>$7,000.00</td>\n",
       "    </tr>\n",
       "    <tr>\n",
       "      <th>3</th>\n",
       "      <td>BMW</td>\n",
       "      <td>Black</td>\n",
       "      <td>11179</td>\n",
       "      <td>5</td>\n",
       "      <td>$22,000.00</td>\n",
       "    </tr>\n",
       "    <tr>\n",
       "      <th>4</th>\n",
       "      <td>Nissan</td>\n",
       "      <td>White</td>\n",
       "      <td>213095</td>\n",
       "      <td>4</td>\n",
       "      <td>$3,500.00</td>\n",
       "    </tr>\n",
       "    <tr>\n",
       "      <th>5</th>\n",
       "      <td>Toyota</td>\n",
       "      <td>Green</td>\n",
       "      <td>99213</td>\n",
       "      <td>4</td>\n",
       "      <td>$4,500.00</td>\n",
       "    </tr>\n",
       "    <tr>\n",
       "      <th>6</th>\n",
       "      <td>Honda</td>\n",
       "      <td>Blue</td>\n",
       "      <td>45698</td>\n",
       "      <td>4</td>\n",
       "      <td>$7,500.00</td>\n",
       "    </tr>\n",
       "    <tr>\n",
       "      <th>7</th>\n",
       "      <td>Honda</td>\n",
       "      <td>Blue</td>\n",
       "      <td>54738</td>\n",
       "      <td>4</td>\n",
       "      <td>$7,000.00</td>\n",
       "    </tr>\n",
       "    <tr>\n",
       "      <th>8</th>\n",
       "      <td>Toyota</td>\n",
       "      <td>White</td>\n",
       "      <td>60000</td>\n",
       "      <td>4</td>\n",
       "      <td>$6,250.00</td>\n",
       "    </tr>\n",
       "    <tr>\n",
       "      <th>9</th>\n",
       "      <td>Nissan</td>\n",
       "      <td>White</td>\n",
       "      <td>31600</td>\n",
       "      <td>4</td>\n",
       "      <td>$9,700.00</td>\n",
       "    </tr>\n",
       "  </tbody>\n",
       "</table>\n",
       "</div>"
      ],
      "text/plain": [
       "     Make Colour  Odometer (KM)  Doors       Price\n",
       "0  Toyota  White         150043      4   $4,000.00\n",
       "1   Honda    Red          87899      4   $5,000.00\n",
       "2  Toyota   Blue          32549      3   $7,000.00\n",
       "3     BMW  Black          11179      5  $22,000.00\n",
       "4  Nissan  White         213095      4   $3,500.00\n",
       "5  Toyota  Green          99213      4   $4,500.00\n",
       "6   Honda   Blue          45698      4   $7,500.00\n",
       "7   Honda   Blue          54738      4   $7,000.00\n",
       "8  Toyota  White          60000      4   $6,250.00\n",
       "9  Nissan  White          31600      4   $9,700.00"
      ]
     },
     "execution_count": 8,
     "metadata": {},
     "output_type": "execute_result"
    }
   ],
   "source": [
    "exported_cars"
   ]
  },
  {
   "cell_type": "markdown",
   "id": "782ea92c",
   "metadata": {},
   "source": [
    "# Describe Data"
   ]
  },
  {
   "cell_type": "code",
   "execution_count": 15,
   "id": "e6b3e9f5",
   "metadata": {},
   "outputs": [],
   "source": [
    "cars = export_car_sales"
   ]
  },
  {
   "cell_type": "markdown",
   "id": "8743723c",
   "metadata": {},
   "source": [
    "### Car Branded"
   ]
  },
  {
   "cell_type": "code",
   "execution_count": 21,
   "id": "70e64da4",
   "metadata": {},
   "outputs": [],
   "source": [
    "car_brand_list = []\n",
    "for brand in cars.Make:\n",
    "    if brand not in car_brand_list:\n",
    "        car_brand_list.append(brand)"
   ]
  },
  {
   "cell_type": "code",
   "execution_count": 22,
   "id": "f2b1b28e",
   "metadata": {},
   "outputs": [
    {
     "name": "stdout",
     "output_type": "stream",
     "text": [
      "['Toyota', 'Honda', 'BMW', 'Nissan']\n"
     ]
    }
   ],
   "source": [
    "print(car_brand_list)"
   ]
  },
  {
   "cell_type": "markdown",
   "id": "61a971e3",
   "metadata": {},
   "source": [
    "### Most Expensive Car"
   ]
  },
  {
   "cell_type": "code",
   "execution_count": 25,
   "id": "cd4e2fb7",
   "metadata": {},
   "outputs": [],
   "source": [
    "car_prices = [float(\"\".join(price[1:].split(\",\"))) for price in cars.Price]"
   ]
  },
  {
   "cell_type": "code",
   "execution_count": 26,
   "id": "102f63d2",
   "metadata": {},
   "outputs": [
    {
     "name": "stdout",
     "output_type": "stream",
     "text": [
      "[4000.0, 5000.0, 7000.0, 22000.0, 3500.0, 4500.0, 7500.0, 7000.0, 6250.0, 9700.0]\n"
     ]
    }
   ],
   "source": [
    "print(car_prices)"
   ]
  },
  {
   "cell_type": "code",
   "execution_count": 27,
   "id": "94b940bc",
   "metadata": {},
   "outputs": [],
   "source": [
    "most_expensive_car = max(car_prices)"
   ]
  },
  {
   "cell_type": "code",
   "execution_count": 28,
   "id": "4c4cc5d7",
   "metadata": {},
   "outputs": [
    {
     "name": "stdout",
     "output_type": "stream",
     "text": [
      "22000.0\n"
     ]
    }
   ],
   "source": [
    "print(most_expensive_car)"
   ]
  },
  {
   "cell_type": "code",
   "execution_count": 29,
   "id": "012c0da2",
   "metadata": {},
   "outputs": [],
   "source": [
    "x = car_prices.index(most_expensive_car)"
   ]
  },
  {
   "cell_type": "code",
   "execution_count": 30,
   "id": "d03d248e",
   "metadata": {},
   "outputs": [
    {
     "name": "stdout",
     "output_type": "stream",
     "text": [
      "  Make Colour  Odometer (KM)  Doors       Price\n",
      "3  BMW  Black          11179      5  $22,000.00\n"
     ]
    }
   ],
   "source": [
    "most_expensive_car_details = cars[cars.index == x]\n",
    "print(most_expensive_car_details)"
   ]
  },
  {
   "cell_type": "code",
   "execution_count": 31,
   "id": "19cc6434",
   "metadata": {},
   "outputs": [
    {
     "name": "stdout",
     "output_type": "stream",
     "text": [
      "3    BMW\n",
      "Name: Make, dtype: object\n"
     ]
    }
   ],
   "source": [
    "print(most_expensive_car_details.Make)"
   ]
  },
  {
   "cell_type": "markdown",
   "id": "33c2fec0",
   "metadata": {},
   "source": [
    "### Most Cheap Car Details"
   ]
  },
  {
   "cell_type": "code",
   "execution_count": 63,
   "id": "21f61330",
   "metadata": {},
   "outputs": [
    {
     "name": "stdout",
     "output_type": "stream",
     "text": [
      "     Make Colour  Odometer (KM)  Doors      Price\n",
      "4  Nissan  White         213095      4  $3,500.00\n"
     ]
    }
   ],
   "source": [
    "most_cheap_car = cars[cars.index == car_prices.index(min(car_prices))]\n",
    "print(most_cheap_car)\n"
   ]
  },
  {
   "cell_type": "code",
   "execution_count": 32,
   "id": "3993c01b",
   "metadata": {
    "scrolled": true
   },
   "outputs": [
    {
     "name": "stdout",
     "output_type": "stream",
     "text": [
      "7645.0\n"
     ]
    }
   ],
   "source": [
    "average_of_car_prices = sum(car_prices) / len(car_prices)\n",
    "print(average_of_car_prices)"
   ]
  },
  {
   "cell_type": "code",
   "execution_count": 33,
   "id": "fa236b59",
   "metadata": {},
   "outputs": [
    {
     "data": {
      "text/plain": [
       "Index(['Make', 'Colour', 'Odometer (KM)', 'Doors', 'Price'], dtype='object')"
      ]
     },
     "execution_count": 33,
     "metadata": {},
     "output_type": "execute_result"
    }
   ],
   "source": [
    "cars.columns"
   ]
  },
  {
   "cell_type": "code",
   "execution_count": 34,
   "id": "ed1320ba",
   "metadata": {},
   "outputs": [
    {
     "data": {
      "text/plain": [
       "RangeIndex(start=0, stop=10, step=1)"
      ]
     },
     "execution_count": 34,
     "metadata": {},
     "output_type": "execute_result"
    }
   ],
   "source": [
    "cars.index"
   ]
  },
  {
   "cell_type": "markdown",
   "id": "78009d86",
   "metadata": {},
   "source": [
    "### White Cars"
   ]
  },
  {
   "cell_type": "code",
   "execution_count": 35,
   "id": "a2146b6d",
   "metadata": {},
   "outputs": [
    {
     "name": "stdout",
     "output_type": "stream",
     "text": [
      "     Make Colour  Odometer (KM)  Doors      Price\n",
      "0  Toyota  White         150043      4  $4,000.00\n",
      "4  Nissan  White         213095      4  $3,500.00\n",
      "8  Toyota  White          60000      4  $6,250.00\n",
      "9  Nissan  White          31600      4  $9,700.00\n"
     ]
    }
   ],
   "source": [
    "white_cars = cars[cars[\"Colour\"] == \"White\"]\n",
    "print(white_cars)"
   ]
  },
  {
   "cell_type": "markdown",
   "id": "c0dbb3a8",
   "metadata": {},
   "source": [
    "### Most 5 Runed cars"
   ]
  },
  {
   "cell_type": "code",
   "execution_count": 42,
   "id": "c70cc3cb",
   "metadata": {},
   "outputs": [
    {
     "name": "stdout",
     "output_type": "stream",
     "text": [
      "[213095, 150043, 99213, 87899, 60000]\n"
     ]
    }
   ],
   "source": [
    "odometer_cars = [car for car in cars[\"Odometer (KM)\"]]\n",
    "odometer_cars.sort(reverse=True)\n",
    "print(odometer_cars[:5])"
   ]
  },
  {
   "cell_type": "markdown",
   "id": "75901381",
   "metadata": {},
   "source": [
    "### Car Colors"
   ]
  },
  {
   "cell_type": "code",
   "execution_count": 55,
   "id": "8bde1184",
   "metadata": {},
   "outputs": [],
   "source": [
    "car_colors = []\n",
    "for car in cars.Colour:\n",
    "    if car not in car_colors:\n",
    "        car_colors.append(car)"
   ]
  },
  {
   "cell_type": "code",
   "execution_count": 56,
   "id": "36f8841e",
   "metadata": {},
   "outputs": [
    {
     "name": "stdout",
     "output_type": "stream",
     "text": [
      "['White', 'Red', 'Blue', 'Black', 'Green']\n"
     ]
    }
   ],
   "source": [
    "print(car_colors)"
   ]
  },
  {
   "cell_type": "markdown",
   "id": "9e7e2c82",
   "metadata": {},
   "source": [
    "### Most Popular Color"
   ]
  },
  {
   "cell_type": "code",
   "execution_count": 104,
   "id": "bcdc9e40",
   "metadata": {},
   "outputs": [
    {
     "name": "stdout",
     "output_type": "stream",
     "text": [
      "Most Populat Color is White, There're 4 cars\n"
     ]
    }
   ],
   "source": [
    "car_colors = {}\n",
    "for color in cars.Colour:\n",
    "    if color in car_colors:\n",
    "        car_colors[color] += 1\n",
    "    else:\n",
    "        car_colors[color] = 1\n",
    "\n",
    "max_colors = [car_colors[color] for color in car_colors]\n",
    "populer_number = max(max_colors)\n",
    "\n",
    "for key,val in car_colors.items():\n",
    "    if val == populer_number:\n",
    "        print(f\"Most Populat Color is {key}, There're {val} cars\")\n",
    "        "
   ]
  },
  {
   "cell_type": "code",
   "execution_count": 105,
   "id": "4155eca5",
   "metadata": {},
   "outputs": [
    {
     "name": "stdout",
     "output_type": "stream",
     "text": [
      "{'White': 4, 'Red': 1, 'Blue': 3, 'Black': 1, 'Green': 1}\n"
     ]
    }
   ],
   "source": [
    "print(car_colors)"
   ]
  },
  {
   "cell_type": "markdown",
   "id": "a811217f",
   "metadata": {},
   "source": [
    "### Most Popular Door Type"
   ]
  },
  {
   "cell_type": "code",
   "execution_count": 140,
   "id": "9b0302c7",
   "metadata": {},
   "outputs": [
    {
     "name": "stdout",
     "output_type": "stream",
     "text": [
      "Most Popular Door Type is 4, There're 8 Cars\n"
     ]
    }
   ],
   "source": [
    "door_types = pd.Series(cars.Doors).to_list()\n",
    "door_types_dict = {}\n",
    "for door in door_types:\n",
    "    if door in door_types_dict:\n",
    "        door_types_dict[door] += 1\n",
    "    else:\n",
    "        door_types_dict[door] = 1\n",
    "popular_door_list = [val for key,val in door_types_dict.items()]\n",
    "max_number = max(popular_door_list)\n",
    "\n",
    "most_famous_door_type = 0\n",
    "for key,val in door_types_dict.items():\n",
    "    if val == max_number:\n",
    "        most_famous_door_type += key\n",
    "        print(f\"Most Popular Door Type is {key}, There're {val} Cars\")"
   ]
  },
  {
   "cell_type": "markdown",
   "id": "e1902045",
   "metadata": {},
   "source": [
    "### Populer Door Type Car Information"
   ]
  },
  {
   "cell_type": "code",
   "execution_count": 144,
   "id": "f992e81b",
   "metadata": {},
   "outputs": [],
   "source": [
    "car_doors = cars[cars.Doors == most_famous_door_type]"
   ]
  },
  {
   "cell_type": "code",
   "execution_count": 145,
   "id": "852c351f",
   "metadata": {},
   "outputs": [
    {
     "name": "stdout",
     "output_type": "stream",
     "text": [
      "     Make Colour  Odometer (KM)  Doors      Price\n",
      "0  Toyota  White         150043      4  $4,000.00\n",
      "1   Honda    Red          87899      4  $5,000.00\n",
      "4  Nissan  White         213095      4  $3,500.00\n",
      "5  Toyota  Green          99213      4  $4,500.00\n",
      "6   Honda   Blue          45698      4  $7,500.00\n",
      "7   Honda   Blue          54738      4  $7,000.00\n",
      "8  Toyota  White          60000      4  $6,250.00\n",
      "9  Nissan  White          31600      4  $9,700.00\n"
     ]
    }
   ],
   "source": [
    "print(car_doors)"
   ]
  },
  {
   "cell_type": "code",
   "execution_count": 146,
   "id": "e12b87ed",
   "metadata": {},
   "outputs": [
    {
     "name": "stdout",
     "output_type": "stream",
     "text": [
      "78601.4\n"
     ]
    }
   ],
   "source": [
    "print(cars[\"Odometer (KM)\"].mean())"
   ]
  },
  {
   "cell_type": "code",
   "execution_count": 147,
   "id": "1fb8cc77",
   "metadata": {},
   "outputs": [
    {
     "data": {
      "text/plain": [
       "200"
      ]
     },
     "execution_count": 147,
     "metadata": {},
     "output_type": "execute_result"
    }
   ],
   "source": [
    "df = pd.Series([23,55,34,65,23])\n",
    "df.sum()"
   ]
  },
  {
   "cell_type": "code",
   "execution_count": 148,
   "id": "b17b07f4",
   "metadata": {},
   "outputs": [
    {
     "data": {
      "text/plain": [
       "40.0"
      ]
     },
     "execution_count": 148,
     "metadata": {},
     "output_type": "execute_result"
    }
   ],
   "source": [
    "df.mean()"
   ]
  },
  {
   "cell_type": "code",
   "execution_count": 149,
   "id": "5530c63a",
   "metadata": {},
   "outputs": [
    {
     "data": {
      "text/plain": [
       "23"
      ]
     },
     "execution_count": 149,
     "metadata": {},
     "output_type": "execute_result"
    }
   ],
   "source": [
    "df.min()"
   ]
  },
  {
   "cell_type": "code",
   "execution_count": 150,
   "id": "f6edc13f",
   "metadata": {},
   "outputs": [
    {
     "data": {
      "text/plain": [
       "0    23\n",
       "1    55\n",
       "2    34\n",
       "3    65\n",
       "4    23\n",
       "dtype: int64"
      ]
     },
     "execution_count": 150,
     "metadata": {},
     "output_type": "execute_result"
    }
   ],
   "source": [
    "df"
   ]
  },
  {
   "cell_type": "code",
   "execution_count": 151,
   "id": "85a15be6",
   "metadata": {},
   "outputs": [
    {
     "data": {
      "text/plain": [
       "{0: 23, 1: 55, 2: 34, 3: 65, 4: 23}"
      ]
     },
     "execution_count": 151,
     "metadata": {},
     "output_type": "execute_result"
    }
   ],
   "source": [
    "df.to_dict()"
   ]
  },
  {
   "cell_type": "code",
   "execution_count": 152,
   "id": "fd5ac8f7",
   "metadata": {},
   "outputs": [
    {
     "data": {
      "text/plain": [
       "[23, 55, 34, 65, 23]"
      ]
     },
     "execution_count": 152,
     "metadata": {},
     "output_type": "execute_result"
    }
   ],
   "source": [
    "df.to_list()"
   ]
  },
  {
   "cell_type": "code",
   "execution_count": 160,
   "id": "5995ed6d",
   "metadata": {},
   "outputs": [
    {
     "name": "stdout",
     "output_type": "stream",
     "text": [
      "{0: 23, 1: 55, 2: 34, 3: 65, 4: 23}\n"
     ]
    }
   ],
   "source": [
    "x = df.to_dict()\n",
    "\n",
    "print(x)"
   ]
  },
  {
   "cell_type": "code",
   "execution_count": 166,
   "id": "c36f1456",
   "metadata": {},
   "outputs": [
    {
     "name": "stdout",
     "output_type": "stream",
     "text": [
      "[{0: 23, 1: 55, 2: 34, 3: 65, 4: 23}]\n"
     ]
    }
   ],
   "source": [
    "y = pd.DataFrame([x])\n",
    "print(y.to_dict(\"records\"))"
   ]
  },
  {
   "cell_type": "code",
   "execution_count": 167,
   "id": "d1d75747",
   "metadata": {},
   "outputs": [
    {
     "data": {
      "text/html": [
       "<div>\n",
       "<style scoped>\n",
       "    .dataframe tbody tr th:only-of-type {\n",
       "        vertical-align: middle;\n",
       "    }\n",
       "\n",
       "    .dataframe tbody tr th {\n",
       "        vertical-align: top;\n",
       "    }\n",
       "\n",
       "    .dataframe thead th {\n",
       "        text-align: right;\n",
       "    }\n",
       "</style>\n",
       "<table border=\"1\" class=\"dataframe\">\n",
       "  <thead>\n",
       "    <tr style=\"text-align: right;\">\n",
       "      <th></th>\n",
       "      <th>Make</th>\n",
       "      <th>Colour</th>\n",
       "      <th>Odometer (KM)</th>\n",
       "      <th>Doors</th>\n",
       "      <th>Price</th>\n",
       "    </tr>\n",
       "  </thead>\n",
       "  <tbody>\n",
       "    <tr>\n",
       "      <th>0</th>\n",
       "      <td>Toyota</td>\n",
       "      <td>White</td>\n",
       "      <td>150043</td>\n",
       "      <td>4</td>\n",
       "      <td>$4,000.00</td>\n",
       "    </tr>\n",
       "    <tr>\n",
       "      <th>1</th>\n",
       "      <td>Honda</td>\n",
       "      <td>Red</td>\n",
       "      <td>87899</td>\n",
       "      <td>4</td>\n",
       "      <td>$5,000.00</td>\n",
       "    </tr>\n",
       "    <tr>\n",
       "      <th>2</th>\n",
       "      <td>Toyota</td>\n",
       "      <td>Blue</td>\n",
       "      <td>32549</td>\n",
       "      <td>3</td>\n",
       "      <td>$7,000.00</td>\n",
       "    </tr>\n",
       "    <tr>\n",
       "      <th>3</th>\n",
       "      <td>BMW</td>\n",
       "      <td>Black</td>\n",
       "      <td>11179</td>\n",
       "      <td>5</td>\n",
       "      <td>$22,000.00</td>\n",
       "    </tr>\n",
       "    <tr>\n",
       "      <th>4</th>\n",
       "      <td>Nissan</td>\n",
       "      <td>White</td>\n",
       "      <td>213095</td>\n",
       "      <td>4</td>\n",
       "      <td>$3,500.00</td>\n",
       "    </tr>\n",
       "  </tbody>\n",
       "</table>\n",
       "</div>"
      ],
      "text/plain": [
       "     Make Colour  Odometer (KM)  Doors       Price\n",
       "0  Toyota  White         150043      4   $4,000.00\n",
       "1   Honda    Red          87899      4   $5,000.00\n",
       "2  Toyota   Blue          32549      3   $7,000.00\n",
       "3     BMW  Black          11179      5  $22,000.00\n",
       "4  Nissan  White         213095      4   $3,500.00"
      ]
     },
     "execution_count": 167,
     "metadata": {},
     "output_type": "execute_result"
    }
   ],
   "source": [
    "cars.head()"
   ]
  },
  {
   "cell_type": "code",
   "execution_count": null,
   "id": "19e1483a",
   "metadata": {},
   "outputs": [],
   "source": []
  }
 ],
 "metadata": {
  "kernelspec": {
   "display_name": "Python 3",
   "language": "python",
   "name": "python3"
  },
  "language_info": {
   "codemirror_mode": {
    "name": "ipython",
    "version": 3
   },
   "file_extension": ".py",
   "mimetype": "text/x-python",
   "name": "python",
   "nbconvert_exporter": "python",
   "pygments_lexer": "ipython3",
   "version": "3.9.5"
  }
 },
 "nbformat": 4,
 "nbformat_minor": 5
}
